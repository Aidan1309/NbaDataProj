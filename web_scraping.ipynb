{
 "cells": [
  {
   "cell_type": "code",
   "execution_count": 3,
   "id": "41e247ea-a8b9-483b-9797-992b515ad977",
   "metadata": {},
   "outputs": [
    {
     "name": "stdout",
     "output_type": "stream",
     "text": [
      "Requirement already satisfied: requests in /opt/anaconda3/lib/python3.11/site-packages (2.31.0)\n",
      "Requirement already satisfied: charset-normalizer<4,>=2 in /opt/anaconda3/lib/python3.11/site-packages (from requests) (2.0.4)\n",
      "Requirement already satisfied: idna<4,>=2.5 in /opt/anaconda3/lib/python3.11/site-packages (from requests) (3.4)\n",
      "Requirement already satisfied: urllib3<3,>=1.21.1 in /opt/anaconda3/lib/python3.11/site-packages (from requests) (2.0.7)\n",
      "Requirement already satisfied: certifi>=2017.4.17 in /opt/anaconda3/lib/python3.11/site-packages (from requests) (2024.2.2)\n"
     ]
    }
   ],
   "source": [
    "!pip install requests"
   ]
  },
  {
   "cell_type": "code",
   "execution_count": 36,
   "id": "eb54dac5-1fc0-4bba-a870-712406f5fd78",
   "metadata": {},
   "outputs": [],
   "source": [
    "years = list(range(1995,2024))"
   ]
  },
  {
   "cell_type": "code",
   "execution_count": 3,
   "id": "18f77216-2354-4b8f-9c62-e7682ffee483",
   "metadata": {},
   "outputs": [],
   "source": [
    "url_start = \"https://www.basketball-reference.com/awards/awards_{}.html\""
   ]
  },
  {
   "cell_type": "code",
   "execution_count": 6,
   "id": "e434952e-dd55-4acb-ab18-6e28f00a0847",
   "metadata": {},
   "outputs": [],
   "source": [
    "import requests\n",
    "\n",
    "for year in years:\n",
    "    url = url_start.format(year)\n",
    "    data = requests.get(url)\n",
    "\n",
    "    with open(\"mvp/{}.html\".format(year), \"w+\") as f:\n",
    "        f.write(data.text)\n"
   ]
  },
  {
   "cell_type": "code",
   "execution_count": 7,
   "id": "49250ab3-1417-44e9-b1e5-6f0869c4979b",
   "metadata": {},
   "outputs": [
    {
     "name": "stdout",
     "output_type": "stream",
     "text": [
      "Requirement already satisfied: beautifulsoup4 in /opt/anaconda3/lib/python3.11/site-packages (4.12.2)\n",
      "Requirement already satisfied: soupsieve>1.2 in /opt/anaconda3/lib/python3.11/site-packages (from beautifulsoup4) (2.5)\n"
     ]
    }
   ],
   "source": [
    "!pip install beautifulsoup4"
   ]
  },
  {
   "cell_type": "code",
   "execution_count": 4,
   "id": "fe5e13c0-61b1-4a01-aada-b30e0477baa4",
   "metadata": {},
   "outputs": [],
   "source": [
    "from bs4 import BeautifulSoup"
   ]
  },
  {
   "cell_type": "code",
   "execution_count": 5,
   "id": "9562bd97-a477-4b19-96ef-042291cd89f2",
   "metadata": {},
   "outputs": [],
   "source": [
    "with open(\"mvp/1991.html\") as f:\n",
    "    page = f.read()"
   ]
  },
  {
   "cell_type": "code",
   "execution_count": 6,
   "id": "87d68b0e-1da1-4a73-a79f-9a141174d36e",
   "metadata": {},
   "outputs": [
    {
     "name": "stdout",
     "output_type": "stream",
     "text": [
      "/Users/aidan/Desktop/info103\n"
     ]
    }
   ],
   "source": [
    "import os\n",
    "print(os.getcwd()) #testing/troubleshooting since I was getting a filenotfound error"
   ]
  },
  {
   "cell_type": "code",
   "execution_count": 7,
   "id": "d1ba1f51-2564-460b-95ca-93a667411d78",
   "metadata": {},
   "outputs": [],
   "source": [
    "soup = BeautifulSoup(page, \"html.parser\")"
   ]
  },
  {
   "cell_type": "code",
   "execution_count": 8,
   "id": "6f20a8d7-ba90-48e9-ac6c-79986042b71f",
   "metadata": {},
   "outputs": [],
   "source": [
    "header = soup.find('tr', class_=\"over_header\")"
   ]
  },
  {
   "cell_type": "code",
   "execution_count": 9,
   "id": "170ea0a5-1b64-4b26-8676-d4b4ee4fed50",
   "metadata": {},
   "outputs": [],
   "source": [
    "mvp_table = soup.find(id=\"mvp\")"
   ]
  },
  {
   "cell_type": "code",
   "execution_count": 14,
   "id": "4d4e5690-2a5f-4dcd-88de-8bf80f451762",
   "metadata": {},
   "outputs": [
    {
     "name": "stdout",
     "output_type": "stream",
     "text": [
      "Requirement already satisfied: pandas in /opt/anaconda3/lib/python3.11/site-packages (2.1.4)\n",
      "Requirement already satisfied: numpy<2,>=1.23.2 in /opt/anaconda3/lib/python3.11/site-packages (from pandas) (1.26.4)\n",
      "Requirement already satisfied: python-dateutil>=2.8.2 in /opt/anaconda3/lib/python3.11/site-packages (from pandas) (2.8.2)\n",
      "Requirement already satisfied: pytz>=2020.1 in /opt/anaconda3/lib/python3.11/site-packages (from pandas) (2023.3.post1)\n",
      "Requirement already satisfied: tzdata>=2022.1 in /opt/anaconda3/lib/python3.11/site-packages (from pandas) (2023.3)\n",
      "Requirement already satisfied: six>=1.5 in /opt/anaconda3/lib/python3.11/site-packages (from python-dateutil>=2.8.2->pandas) (1.16.0)\n"
     ]
    }
   ],
   "source": [
    "!pip install pandas"
   ]
  },
  {
   "cell_type": "code",
   "execution_count": 10,
   "id": "9b5eb2cf-9712-45aa-aa70-f41bce136868",
   "metadata": {},
   "outputs": [],
   "source": [
    "import pandas as pd"
   ]
  },
  {
   "cell_type": "code",
   "execution_count": 11,
   "id": "b72706bf-0a2b-427c-8fda-05b060905f8c",
   "metadata": {},
   "outputs": [],
   "source": [
    "from io import StringIO"
   ]
  },
  {
   "cell_type": "code",
   "execution_count": 12,
   "id": "87f6491d-5f2f-449e-bbfa-26e059527d89",
   "metadata": {},
   "outputs": [],
   "source": [
    "mvp_table_String = str(mvp_table)"
   ]
  },
  {
   "cell_type": "code",
   "execution_count": 13,
   "id": "73eff03b-49ed-40a5-9a99-280419d1820e",
   "metadata": {},
   "outputs": [],
   "source": [
    "mvpIO = StringIO(mvp_table_String)"
   ]
  },
  {
   "cell_type": "code",
   "execution_count": 26,
   "id": "e94ec2a4-eb49-4510-b8c3-04d487ac752b",
   "metadata": {},
   "outputs": [],
   "source": [
    "#mvp_1991 = pd.read_html(mvpIO)[0]"
   ]
  },
  {
   "cell_type": "code",
   "execution_count": 27,
   "id": "d802ae00-ff90-40d1-a3db-3ab02147d651",
   "metadata": {},
   "outputs": [],
   "source": [
    "#mvp_1991"
   ]
  },
  {
   "cell_type": "code",
   "execution_count": 78,
   "id": "a87c83d1-1931-4f01-8981-10635db800aa",
   "metadata": {},
   "outputs": [],
   "source": [
    "#dfs = []\n",
    "#for year in years:\n",
    " #   with open(\"mvp/{}.html\".format(year), \"r\") as f:\n",
    "  #      page = f.read()\n",
    "#\n",
    " #   soup = BeautifulSoup(page, \"html.parser\")\n",
    "  #  over_header = soup.find('tr', class_=\"over_header\")\n",
    "   # if over_header:\n",
    "    #    over_header.decompose()\n",
    "    #\n",
    "    #mvp_table = soup.find(id=\"mvp\")\n",
    "    #if mvp_table:\n",
    "     #   mvp_table_String = str(mvp_table)\n",
    "      #  mvpIO = StringIO(mvp_table_String)\n",
    "       # mvp = pd.read_html(mvpIO)[0]\n",
    "        #dfs.append(mvp)\n"
   ]
  },
  {
   "cell_type": "code",
   "execution_count": 14,
   "id": "85719a12-0a24-45d2-8b4b-9ef8d02b99f0",
   "metadata": {},
   "outputs": [],
   "source": [
    "dfs = []\n",
    "years = range(1995, 2024)  # Ensure this covers all your intended years\n",
    "\n",
    "for year in years:\n",
    "    try:\n",
    "        # Attempt to open and read each HTML file\n",
    "        with open(f\"mvp/{year}.html\", \"r\") as f:\n",
    "            page = f.read()\n",
    "\n",
    "        soup = BeautifulSoup(page, \"html.parser\")\n",
    "\n",
    "        # Find the 'over_header' element and decompose if found\n",
    "        over_header = soup.find('tr', class_=\"over_header\")\n",
    "        if over_header:\n",
    "            over_header.decompose()\n",
    "        else:\n",
    "            print(f\"Over header not found in file for year {year}\")\n",
    "\n",
    "        # Find the 'mvp' table element\n",
    "        mvp_table = soup.find(id=\"mvp\")\n",
    "        if mvp_table:\n",
    "            mvp_table_String = str(mvp_table)\n",
    "            mvpIO = StringIO(mvp_table_String)\n",
    "            mvp = pd.read_html(mvpIO)[0]\n",
    "            dfs.append(mvp)  # Append the DataFrame if the table is found\n",
    "            mvp[\"Year\"] = year\n",
    "        else:\n",
    "            print(f\"MVP table not found in file for year {year}\")\n",
    "\n",
    "    except Exception as e:\n",
    "        # Print any errors that occur during the file opening or HTML processing\n",
    "        print(f\"Error processing file for year {year}: {e}\")\n",
    "\n"
   ]
  },
  {
   "cell_type": "code",
   "execution_count": 15,
   "id": "c27fb9d8-08dd-4d8a-9a86-abd0a6660f2e",
   "metadata": {},
   "outputs": [],
   "source": [
    "mvps = pd.concat(dfs)"
   ]
  },
  {
   "cell_type": "code",
   "execution_count": 16,
   "id": "a1394577-6c8f-4fcd-a920-6072bf869c4a",
   "metadata": {},
   "outputs": [
    {
     "data": {
      "text/html": [
       "<div>\n",
       "<style scoped>\n",
       "    .dataframe tbody tr th:only-of-type {\n",
       "        vertical-align: middle;\n",
       "    }\n",
       "\n",
       "    .dataframe tbody tr th {\n",
       "        vertical-align: top;\n",
       "    }\n",
       "\n",
       "    .dataframe thead th {\n",
       "        text-align: right;\n",
       "    }\n",
       "</style>\n",
       "<table border=\"1\" class=\"dataframe\">\n",
       "  <thead>\n",
       "    <tr style=\"text-align: right;\">\n",
       "      <th></th>\n",
       "      <th>Rank</th>\n",
       "      <th>Player</th>\n",
       "      <th>Age</th>\n",
       "      <th>Tm</th>\n",
       "      <th>First</th>\n",
       "      <th>Pts Won</th>\n",
       "      <th>Pts Max</th>\n",
       "      <th>Share</th>\n",
       "      <th>G</th>\n",
       "      <th>MP</th>\n",
       "      <th>...</th>\n",
       "      <th>TRB</th>\n",
       "      <th>AST</th>\n",
       "      <th>STL</th>\n",
       "      <th>BLK</th>\n",
       "      <th>FG%</th>\n",
       "      <th>3P%</th>\n",
       "      <th>FT%</th>\n",
       "      <th>WS</th>\n",
       "      <th>WS/48</th>\n",
       "      <th>Year</th>\n",
       "    </tr>\n",
       "  </thead>\n",
       "  <tbody>\n",
       "    <tr>\n",
       "      <th>8</th>\n",
       "      <td>9</td>\n",
       "      <td>Stephen Curry</td>\n",
       "      <td>34</td>\n",
       "      <td>GSW</td>\n",
       "      <td>0.0</td>\n",
       "      <td>5.0</td>\n",
       "      <td>1000</td>\n",
       "      <td>0.005</td>\n",
       "      <td>56</td>\n",
       "      <td>34.7</td>\n",
       "      <td>...</td>\n",
       "      <td>6.1</td>\n",
       "      <td>6.3</td>\n",
       "      <td>0.9</td>\n",
       "      <td>0.4</td>\n",
       "      <td>0.493</td>\n",
       "      <td>0.427</td>\n",
       "      <td>0.915</td>\n",
       "      <td>7.8</td>\n",
       "      <td>0.192</td>\n",
       "      <td>2023</td>\n",
       "    </tr>\n",
       "    <tr>\n",
       "      <th>9</th>\n",
       "      <td>10</td>\n",
       "      <td>Jimmy Butler</td>\n",
       "      <td>33</td>\n",
       "      <td>MIA</td>\n",
       "      <td>0.0</td>\n",
       "      <td>3.0</td>\n",
       "      <td>1000</td>\n",
       "      <td>0.003</td>\n",
       "      <td>64</td>\n",
       "      <td>33.4</td>\n",
       "      <td>...</td>\n",
       "      <td>5.9</td>\n",
       "      <td>5.3</td>\n",
       "      <td>1.8</td>\n",
       "      <td>0.3</td>\n",
       "      <td>0.539</td>\n",
       "      <td>0.350</td>\n",
       "      <td>0.850</td>\n",
       "      <td>12.3</td>\n",
       "      <td>0.277</td>\n",
       "      <td>2023</td>\n",
       "    </tr>\n",
       "    <tr>\n",
       "      <th>10</th>\n",
       "      <td>11</td>\n",
       "      <td>De'Aaron Fox</td>\n",
       "      <td>25</td>\n",
       "      <td>SAC</td>\n",
       "      <td>0.0</td>\n",
       "      <td>2.0</td>\n",
       "      <td>1000</td>\n",
       "      <td>0.002</td>\n",
       "      <td>73</td>\n",
       "      <td>33.4</td>\n",
       "      <td>...</td>\n",
       "      <td>4.2</td>\n",
       "      <td>6.1</td>\n",
       "      <td>1.1</td>\n",
       "      <td>0.3</td>\n",
       "      <td>0.512</td>\n",
       "      <td>0.324</td>\n",
       "      <td>0.780</td>\n",
       "      <td>7.4</td>\n",
       "      <td>0.146</td>\n",
       "      <td>2023</td>\n",
       "    </tr>\n",
       "    <tr>\n",
       "      <th>11</th>\n",
       "      <td>12T</td>\n",
       "      <td>Jalen Brunson</td>\n",
       "      <td>26</td>\n",
       "      <td>NYK</td>\n",
       "      <td>0.0</td>\n",
       "      <td>1.0</td>\n",
       "      <td>1000</td>\n",
       "      <td>0.001</td>\n",
       "      <td>68</td>\n",
       "      <td>35.0</td>\n",
       "      <td>...</td>\n",
       "      <td>3.5</td>\n",
       "      <td>6.2</td>\n",
       "      <td>0.9</td>\n",
       "      <td>0.2</td>\n",
       "      <td>0.491</td>\n",
       "      <td>0.416</td>\n",
       "      <td>0.829</td>\n",
       "      <td>8.7</td>\n",
       "      <td>0.175</td>\n",
       "      <td>2023</td>\n",
       "    </tr>\n",
       "    <tr>\n",
       "      <th>12</th>\n",
       "      <td>12T</td>\n",
       "      <td>Ja Morant</td>\n",
       "      <td>23</td>\n",
       "      <td>MEM</td>\n",
       "      <td>0.0</td>\n",
       "      <td>1.0</td>\n",
       "      <td>1000</td>\n",
       "      <td>0.001</td>\n",
       "      <td>61</td>\n",
       "      <td>31.9</td>\n",
       "      <td>...</td>\n",
       "      <td>5.9</td>\n",
       "      <td>8.1</td>\n",
       "      <td>1.1</td>\n",
       "      <td>0.3</td>\n",
       "      <td>0.466</td>\n",
       "      <td>0.307</td>\n",
       "      <td>0.748</td>\n",
       "      <td>6.0</td>\n",
       "      <td>0.148</td>\n",
       "      <td>2023</td>\n",
       "    </tr>\n",
       "  </tbody>\n",
       "</table>\n",
       "<p>5 rows × 21 columns</p>\n",
       "</div>"
      ],
      "text/plain": [
       "   Rank         Player  Age   Tm  First  Pts Won  Pts Max  Share   G    MP  \\\n",
       "8     9  Stephen Curry   34  GSW    0.0      5.0     1000  0.005  56  34.7   \n",
       "9    10   Jimmy Butler   33  MIA    0.0      3.0     1000  0.003  64  33.4   \n",
       "10   11   De'Aaron Fox   25  SAC    0.0      2.0     1000  0.002  73  33.4   \n",
       "11  12T  Jalen Brunson   26  NYK    0.0      1.0     1000  0.001  68  35.0   \n",
       "12  12T      Ja Morant   23  MEM    0.0      1.0     1000  0.001  61  31.9   \n",
       "\n",
       "    ...  TRB  AST  STL  BLK    FG%    3P%    FT%    WS  WS/48  Year  \n",
       "8   ...  6.1  6.3  0.9  0.4  0.493  0.427  0.915   7.8  0.192  2023  \n",
       "9   ...  5.9  5.3  1.8  0.3  0.539  0.350  0.850  12.3  0.277  2023  \n",
       "10  ...  4.2  6.1  1.1  0.3  0.512  0.324  0.780   7.4  0.146  2023  \n",
       "11  ...  3.5  6.2  0.9  0.2  0.491  0.416  0.829   8.7  0.175  2023  \n",
       "12  ...  5.9  8.1  1.1  0.3  0.466  0.307  0.748   6.0  0.148  2023  \n",
       "\n",
       "[5 rows x 21 columns]"
      ]
     },
     "execution_count": 16,
     "metadata": {},
     "output_type": "execute_result"
    }
   ],
   "source": [
    "mvps.tail()"
   ]
  },
  {
   "cell_type": "code",
   "execution_count": 106,
   "id": "e1aa55e6-635e-49ac-a8e7-0f9cfe39f378",
   "metadata": {},
   "outputs": [],
   "source": [
    "mvps.to_csv(\"mvps.csv\")"
   ]
  },
  {
   "cell_type": "code",
   "execution_count": 18,
   "id": "fad87985-9a4c-4280-8a14-d90dbb18d843",
   "metadata": {},
   "outputs": [],
   "source": [
    "import requests\n",
    "player_stats_url = \"https://www.basketball-reference.com/leagues/NBA_{}_per_game.html\"\n",
    "\n",
    "url = player_stats_url.format(1995)\n",
    "data = requests.get(url)\n",
    "with open(\"player/1995.html\", \"w+\") as f:\n",
    "    f.write(data.text)"
   ]
  },
  {
   "cell_type": "code",
   "execution_count": 30,
   "id": "e8872534-5962-440e-829a-9f0e00bba024",
   "metadata": {
    "tags": []
   },
   "outputs": [
    {
     "name": "stdout",
     "output_type": "stream",
     "text": [
      "Requirement already satisfied: selenium in /opt/anaconda3/lib/python3.11/site-packages (4.20.0)\n",
      "Requirement already satisfied: urllib3<3,>=1.26 in /opt/anaconda3/lib/python3.11/site-packages (from urllib3[socks]<3,>=1.26->selenium) (2.0.7)\n",
      "Requirement already satisfied: trio~=0.17 in /opt/anaconda3/lib/python3.11/site-packages (from selenium) (0.25.0)\n",
      "Requirement already satisfied: trio-websocket~=0.9 in /opt/anaconda3/lib/python3.11/site-packages (from selenium) (0.11.1)\n",
      "Requirement already satisfied: certifi>=2021.10.8 in /opt/anaconda3/lib/python3.11/site-packages (from selenium) (2024.2.2)\n",
      "Requirement already satisfied: typing_extensions>=4.9.0 in /opt/anaconda3/lib/python3.11/site-packages (from selenium) (4.9.0)\n",
      "Requirement already satisfied: attrs>=23.2.0 in /opt/anaconda3/lib/python3.11/site-packages (from trio~=0.17->selenium) (23.2.0)\n",
      "Requirement already satisfied: sortedcontainers in /opt/anaconda3/lib/python3.11/site-packages (from trio~=0.17->selenium) (2.4.0)\n",
      "Requirement already satisfied: idna in /opt/anaconda3/lib/python3.11/site-packages (from trio~=0.17->selenium) (3.4)\n",
      "Requirement already satisfied: outcome in /opt/anaconda3/lib/python3.11/site-packages (from trio~=0.17->selenium) (1.3.0.post0)\n",
      "Requirement already satisfied: sniffio>=1.3.0 in /opt/anaconda3/lib/python3.11/site-packages (from trio~=0.17->selenium) (1.3.0)\n",
      "Requirement already satisfied: wsproto>=0.14 in /opt/anaconda3/lib/python3.11/site-packages (from trio-websocket~=0.9->selenium) (1.2.0)\n",
      "Requirement already satisfied: pysocks!=1.5.7,<2.0,>=1.5.6 in /opt/anaconda3/lib/python3.11/site-packages (from urllib3[socks]<3,>=1.26->selenium) (1.7.1)\n",
      "Requirement already satisfied: h11<1,>=0.9.0 in /opt/anaconda3/lib/python3.11/site-packages (from wsproto>=0.14->trio-websocket~=0.9->selenium) (0.14.0)\n"
     ]
    }
   ],
   "source": [
    "!pip install selenium"
   ]
  },
  {
   "cell_type": "code",
   "execution_count": 31,
   "id": "e38c8c5c-2421-413c-925e-8c9feec3aaa9",
   "metadata": {},
   "outputs": [
    {
     "name": "stdout",
     "output_type": "stream",
     "text": [
      "xattr: /Users/aidan/Desktop/info103/chromedriver-mac-x64/chromedriver: No such xattr: com.apple.quarantine\n"
     ]
    }
   ],
   "source": [
    "!xattr -d com.apple.quarantine /Users/aidan/Desktop/info103/chromedriver-mac-x64/chromedriver"
   ]
  },
  {
   "cell_type": "code",
   "execution_count": 19,
   "id": "9e7a9565-1e75-434a-87b5-fd83f844c3e8",
   "metadata": {
    "tags": []
   },
   "outputs": [],
   "source": [
    "from selenium import webdriver"
   ]
  },
  {
   "cell_type": "code",
   "execution_count": 20,
   "id": "d8ccfe43-8d3c-44ec-8770-a23ca07a53bd",
   "metadata": {
    "tags": []
   },
   "outputs": [],
   "source": [
    "from selenium.webdriver.chrome.service import Service"
   ]
  },
  {
   "cell_type": "code",
   "execution_count": 21,
   "id": "5aae028d-3551-4f20-ac8e-c392b4b49f84",
   "metadata": {
    "tags": []
   },
   "outputs": [],
   "source": [
    "s = Service('/Users/aidan/Desktop/info103/chromedriver-mac-x64/chromedriver')"
   ]
  },
  {
   "cell_type": "code",
   "execution_count": 40,
   "id": "99136047-2f82-4169-96fd-3ba068081426",
   "metadata": {
    "tags": []
   },
   "outputs": [],
   "source": [
    "#driver = webdriver.Chrome(executable_path=\"/Users/aidan/Desktop/info103/chromedriver-mac-x64/chromedriver\")\n",
    "driver = webdriver.Chrome(service=s)"
   ]
  },
  {
   "cell_type": "code",
   "execution_count": 30,
   "id": "81ecd2f5-ae73-4baa-ab86-e0dd8db094a3",
   "metadata": {
    "tags": []
   },
   "outputs": [],
   "source": [
    "import time\n",
    "\n",
    "year = 1995\n",
    "url = player_stats_url.format(year)\n",
    "\n",
    "driver.get(url)\n",
    "driver.execute_script(\"window.scrollTo({top: 10000, behavior: 'smooth'});\")\n",
    "time.sleep(2)\n",
    "\n",
    "html = driver.page_source"
   ]
  },
  {
   "cell_type": "code",
   "execution_count": 31,
   "id": "0c0389fb-b774-4e52-a4af-c36a30ca7200",
   "metadata": {},
   "outputs": [],
   "source": [
    "with open(\"player/{}.html\".format(year), \"w+\") as f:\n",
    "    f.write(html)"
   ]
  },
  {
   "cell_type": "code",
   "execution_count": 41,
   "id": "8961e4b8-765b-4342-ab3f-ef4d4311808f",
   "metadata": {
    "tags": []
   },
   "outputs": [],
   "source": [
    "years = list(range(1995,2024))\n",
    "for year in years:\n",
    "    url = player_stats_url.format(year)\n",
    "\n",
    "    driver.get(url)\n",
    "    driver.execute_script(\"window.scrollTo({top: 10000, behavior: 'smooth'});\")\n",
    "    time.sleep(2)\n",
    "\n",
    "    html = driver.page_source\n",
    "    with open(\"player/{}.html\".format(year), \"w+\") as f:\n",
    "        f.write(html)"
   ]
  },
  {
   "cell_type": "code",
   "execution_count": 46,
   "id": "d77e15c2-b0b4-4d62-b393-f8efce987160",
   "metadata": {
    "tags": []
   },
   "outputs": [],
   "source": [
    "dfs = []\n",
    "for year in years:\n",
    "    with open(\"player/{}.html\".format(year)) as f:\n",
    "        page = f.read()\n",
    "\n",
    "    soup = BeautifulSoup(page, \"html.parser\")\n",
    "    soup.find('tr', class_=\"thead\").decompose()\n",
    "    player_table = soup.find(id=\"per_game_stats\")\n",
    "    player_table_String = str(player_table)\n",
    "    playerIO = StringIO(player_table_String)\n",
    "    player = pd.read_html(playerIO)[0]\n",
    "    player[\"Year\"] = year\n",
    "    dfs.append(player)"
   ]
  },
  {
   "cell_type": "code",
   "execution_count": 47,
   "id": "d26b875d-00d7-475b-9b3d-8675353eb44a",
   "metadata": {
    "tags": []
   },
   "outputs": [],
   "source": [
    "players = pd.concat(dfs)"
   ]
  },
  {
   "cell_type": "code",
   "execution_count": 49,
   "id": "7811c113-f364-4142-b1f2-e92dd39d1f28",
   "metadata": {
    "tags": []
   },
   "outputs": [
    {
     "data": {
      "text/html": [
       "<div>\n",
       "<style scoped>\n",
       "    .dataframe tbody tr th:only-of-type {\n",
       "        vertical-align: middle;\n",
       "    }\n",
       "\n",
       "    .dataframe tbody tr th {\n",
       "        vertical-align: top;\n",
       "    }\n",
       "\n",
       "    .dataframe thead th {\n",
       "        text-align: right;\n",
       "    }\n",
       "</style>\n",
       "<table border=\"1\" class=\"dataframe\">\n",
       "  <thead>\n",
       "    <tr style=\"text-align: right;\">\n",
       "      <th></th>\n",
       "      <th>Rk</th>\n",
       "      <th>Player</th>\n",
       "      <th>Pos</th>\n",
       "      <th>Age</th>\n",
       "      <th>Tm</th>\n",
       "      <th>G</th>\n",
       "      <th>GS</th>\n",
       "      <th>MP</th>\n",
       "      <th>FG</th>\n",
       "      <th>FGA</th>\n",
       "      <th>...</th>\n",
       "      <th>ORB</th>\n",
       "      <th>DRB</th>\n",
       "      <th>TRB</th>\n",
       "      <th>AST</th>\n",
       "      <th>STL</th>\n",
       "      <th>BLK</th>\n",
       "      <th>TOV</th>\n",
       "      <th>PF</th>\n",
       "      <th>PTS</th>\n",
       "      <th>Year</th>\n",
       "    </tr>\n",
       "  </thead>\n",
       "  <tbody>\n",
       "    <tr>\n",
       "      <th>0</th>\n",
       "      <td>1</td>\n",
       "      <td>Alaa Abdelnaby</td>\n",
       "      <td>PF</td>\n",
       "      <td>26</td>\n",
       "      <td>TOT</td>\n",
       "      <td>54</td>\n",
       "      <td>0</td>\n",
       "      <td>9.4</td>\n",
       "      <td>2.2</td>\n",
       "      <td>4.3</td>\n",
       "      <td>...</td>\n",
       "      <td>0.7</td>\n",
       "      <td>1.4</td>\n",
       "      <td>2.1</td>\n",
       "      <td>0.2</td>\n",
       "      <td>0.3</td>\n",
       "      <td>0.2</td>\n",
       "      <td>0.8</td>\n",
       "      <td>1.9</td>\n",
       "      <td>4.7</td>\n",
       "      <td>1995</td>\n",
       "    </tr>\n",
       "    <tr>\n",
       "      <th>1</th>\n",
       "      <td>1</td>\n",
       "      <td>Alaa Abdelnaby</td>\n",
       "      <td>PF</td>\n",
       "      <td>26</td>\n",
       "      <td>SAC</td>\n",
       "      <td>51</td>\n",
       "      <td>0</td>\n",
       "      <td>9.3</td>\n",
       "      <td>2.3</td>\n",
       "      <td>4.3</td>\n",
       "      <td>...</td>\n",
       "      <td>0.7</td>\n",
       "      <td>1.4</td>\n",
       "      <td>2.1</td>\n",
       "      <td>0.3</td>\n",
       "      <td>0.3</td>\n",
       "      <td>0.2</td>\n",
       "      <td>0.8</td>\n",
       "      <td>2.0</td>\n",
       "      <td>5.0</td>\n",
       "      <td>1995</td>\n",
       "    </tr>\n",
       "    <tr>\n",
       "      <th>2</th>\n",
       "      <td>1</td>\n",
       "      <td>Alaa Abdelnaby</td>\n",
       "      <td>PF</td>\n",
       "      <td>26</td>\n",
       "      <td>PHI</td>\n",
       "      <td>3</td>\n",
       "      <td>0</td>\n",
       "      <td>10.0</td>\n",
       "      <td>0.3</td>\n",
       "      <td>3.7</td>\n",
       "      <td>...</td>\n",
       "      <td>1.0</td>\n",
       "      <td>1.7</td>\n",
       "      <td>2.7</td>\n",
       "      <td>0.0</td>\n",
       "      <td>0.0</td>\n",
       "      <td>0.0</td>\n",
       "      <td>1.7</td>\n",
       "      <td>0.7</td>\n",
       "      <td>0.7</td>\n",
       "      <td>1995</td>\n",
       "    </tr>\n",
       "    <tr>\n",
       "      <th>3</th>\n",
       "      <td>2</td>\n",
       "      <td>Mahmoud Abdul-Rauf</td>\n",
       "      <td>PG</td>\n",
       "      <td>25</td>\n",
       "      <td>DEN</td>\n",
       "      <td>73</td>\n",
       "      <td>43</td>\n",
       "      <td>28.5</td>\n",
       "      <td>6.5</td>\n",
       "      <td>13.8</td>\n",
       "      <td>...</td>\n",
       "      <td>0.4</td>\n",
       "      <td>1.4</td>\n",
       "      <td>1.9</td>\n",
       "      <td>3.6</td>\n",
       "      <td>1.1</td>\n",
       "      <td>0.1</td>\n",
       "      <td>1.6</td>\n",
       "      <td>1.7</td>\n",
       "      <td>16.0</td>\n",
       "      <td>1995</td>\n",
       "    </tr>\n",
       "    <tr>\n",
       "      <th>4</th>\n",
       "      <td>3</td>\n",
       "      <td>Michael Adams</td>\n",
       "      <td>PG</td>\n",
       "      <td>32</td>\n",
       "      <td>CHH</td>\n",
       "      <td>29</td>\n",
       "      <td>0</td>\n",
       "      <td>15.3</td>\n",
       "      <td>2.3</td>\n",
       "      <td>5.1</td>\n",
       "      <td>...</td>\n",
       "      <td>0.2</td>\n",
       "      <td>0.8</td>\n",
       "      <td>1.0</td>\n",
       "      <td>3.3</td>\n",
       "      <td>0.8</td>\n",
       "      <td>0.0</td>\n",
       "      <td>0.9</td>\n",
       "      <td>1.4</td>\n",
       "      <td>6.5</td>\n",
       "      <td>1995</td>\n",
       "    </tr>\n",
       "    <tr>\n",
       "      <th>...</th>\n",
       "      <td>...</td>\n",
       "      <td>...</td>\n",
       "      <td>...</td>\n",
       "      <td>...</td>\n",
       "      <td>...</td>\n",
       "      <td>...</td>\n",
       "      <td>...</td>\n",
       "      <td>...</td>\n",
       "      <td>...</td>\n",
       "      <td>...</td>\n",
       "      <td>...</td>\n",
       "      <td>...</td>\n",
       "      <td>...</td>\n",
       "      <td>...</td>\n",
       "      <td>...</td>\n",
       "      <td>...</td>\n",
       "      <td>...</td>\n",
       "      <td>...</td>\n",
       "      <td>...</td>\n",
       "      <td>...</td>\n",
       "      <td>...</td>\n",
       "    </tr>\n",
       "    <tr>\n",
       "      <th>699</th>\n",
       "      <td>535</td>\n",
       "      <td>Thaddeus Young</td>\n",
       "      <td>PF</td>\n",
       "      <td>34</td>\n",
       "      <td>TOR</td>\n",
       "      <td>54</td>\n",
       "      <td>9</td>\n",
       "      <td>14.7</td>\n",
       "      <td>2.0</td>\n",
       "      <td>3.7</td>\n",
       "      <td>...</td>\n",
       "      <td>1.3</td>\n",
       "      <td>1.8</td>\n",
       "      <td>3.1</td>\n",
       "      <td>1.4</td>\n",
       "      <td>1.0</td>\n",
       "      <td>0.1</td>\n",
       "      <td>0.8</td>\n",
       "      <td>1.6</td>\n",
       "      <td>4.4</td>\n",
       "      <td>2023</td>\n",
       "    </tr>\n",
       "    <tr>\n",
       "      <th>700</th>\n",
       "      <td>536</td>\n",
       "      <td>Trae Young</td>\n",
       "      <td>PG</td>\n",
       "      <td>24</td>\n",
       "      <td>ATL</td>\n",
       "      <td>73</td>\n",
       "      <td>73</td>\n",
       "      <td>34.8</td>\n",
       "      <td>8.2</td>\n",
       "      <td>19.0</td>\n",
       "      <td>...</td>\n",
       "      <td>0.8</td>\n",
       "      <td>2.2</td>\n",
       "      <td>3.0</td>\n",
       "      <td>10.2</td>\n",
       "      <td>1.1</td>\n",
       "      <td>0.1</td>\n",
       "      <td>4.1</td>\n",
       "      <td>1.4</td>\n",
       "      <td>26.2</td>\n",
       "      <td>2023</td>\n",
       "    </tr>\n",
       "    <tr>\n",
       "      <th>701</th>\n",
       "      <td>537</td>\n",
       "      <td>Omer Yurtseven</td>\n",
       "      <td>C</td>\n",
       "      <td>24</td>\n",
       "      <td>MIA</td>\n",
       "      <td>9</td>\n",
       "      <td>0</td>\n",
       "      <td>9.2</td>\n",
       "      <td>1.8</td>\n",
       "      <td>3.0</td>\n",
       "      <td>...</td>\n",
       "      <td>0.9</td>\n",
       "      <td>1.7</td>\n",
       "      <td>2.6</td>\n",
       "      <td>0.2</td>\n",
       "      <td>0.2</td>\n",
       "      <td>0.2</td>\n",
       "      <td>0.4</td>\n",
       "      <td>1.8</td>\n",
       "      <td>4.4</td>\n",
       "      <td>2023</td>\n",
       "    </tr>\n",
       "    <tr>\n",
       "      <th>702</th>\n",
       "      <td>538</td>\n",
       "      <td>Cody Zeller</td>\n",
       "      <td>C</td>\n",
       "      <td>30</td>\n",
       "      <td>MIA</td>\n",
       "      <td>15</td>\n",
       "      <td>2</td>\n",
       "      <td>14.5</td>\n",
       "      <td>2.5</td>\n",
       "      <td>3.9</td>\n",
       "      <td>...</td>\n",
       "      <td>1.7</td>\n",
       "      <td>2.6</td>\n",
       "      <td>4.3</td>\n",
       "      <td>0.7</td>\n",
       "      <td>0.2</td>\n",
       "      <td>0.3</td>\n",
       "      <td>0.9</td>\n",
       "      <td>2.2</td>\n",
       "      <td>6.5</td>\n",
       "      <td>2023</td>\n",
       "    </tr>\n",
       "    <tr>\n",
       "      <th>703</th>\n",
       "      <td>539</td>\n",
       "      <td>Ivica Zubac</td>\n",
       "      <td>C</td>\n",
       "      <td>25</td>\n",
       "      <td>LAC</td>\n",
       "      <td>76</td>\n",
       "      <td>76</td>\n",
       "      <td>28.6</td>\n",
       "      <td>4.3</td>\n",
       "      <td>6.8</td>\n",
       "      <td>...</td>\n",
       "      <td>3.1</td>\n",
       "      <td>6.8</td>\n",
       "      <td>9.9</td>\n",
       "      <td>1.0</td>\n",
       "      <td>0.4</td>\n",
       "      <td>1.3</td>\n",
       "      <td>1.5</td>\n",
       "      <td>2.9</td>\n",
       "      <td>10.8</td>\n",
       "      <td>2023</td>\n",
       "    </tr>\n",
       "  </tbody>\n",
       "</table>\n",
       "<p>17687 rows × 31 columns</p>\n",
       "</div>"
      ],
      "text/plain": [
       "      Rk              Player Pos Age   Tm   G  GS    MP   FG   FGA  ...  ORB  \\\n",
       "0      1      Alaa Abdelnaby  PF  26  TOT  54   0   9.4  2.2   4.3  ...  0.7   \n",
       "1      1      Alaa Abdelnaby  PF  26  SAC  51   0   9.3  2.3   4.3  ...  0.7   \n",
       "2      1      Alaa Abdelnaby  PF  26  PHI   3   0  10.0  0.3   3.7  ...  1.0   \n",
       "3      2  Mahmoud Abdul-Rauf  PG  25  DEN  73  43  28.5  6.5  13.8  ...  0.4   \n",
       "4      3       Michael Adams  PG  32  CHH  29   0  15.3  2.3   5.1  ...  0.2   \n",
       "..   ...                 ...  ..  ..  ...  ..  ..   ...  ...   ...  ...  ...   \n",
       "699  535      Thaddeus Young  PF  34  TOR  54   9  14.7  2.0   3.7  ...  1.3   \n",
       "700  536          Trae Young  PG  24  ATL  73  73  34.8  8.2  19.0  ...  0.8   \n",
       "701  537      Omer Yurtseven   C  24  MIA   9   0   9.2  1.8   3.0  ...  0.9   \n",
       "702  538         Cody Zeller   C  30  MIA  15   2  14.5  2.5   3.9  ...  1.7   \n",
       "703  539         Ivica Zubac   C  25  LAC  76  76  28.6  4.3   6.8  ...  3.1   \n",
       "\n",
       "     DRB  TRB   AST  STL  BLK  TOV   PF   PTS  Year  \n",
       "0    1.4  2.1   0.2  0.3  0.2  0.8  1.9   4.7  1995  \n",
       "1    1.4  2.1   0.3  0.3  0.2  0.8  2.0   5.0  1995  \n",
       "2    1.7  2.7   0.0  0.0  0.0  1.7  0.7   0.7  1995  \n",
       "3    1.4  1.9   3.6  1.1  0.1  1.6  1.7  16.0  1995  \n",
       "4    0.8  1.0   3.3  0.8  0.0  0.9  1.4   6.5  1995  \n",
       "..   ...  ...   ...  ...  ...  ...  ...   ...   ...  \n",
       "699  1.8  3.1   1.4  1.0  0.1  0.8  1.6   4.4  2023  \n",
       "700  2.2  3.0  10.2  1.1  0.1  4.1  1.4  26.2  2023  \n",
       "701  1.7  2.6   0.2  0.2  0.2  0.4  1.8   4.4  2023  \n",
       "702  2.6  4.3   0.7  0.2  0.3  0.9  2.2   6.5  2023  \n",
       "703  6.8  9.9   1.0  0.4  1.3  1.5  2.9  10.8  2023  \n",
       "\n",
       "[17687 rows x 31 columns]"
      ]
     },
     "execution_count": 49,
     "metadata": {},
     "output_type": "execute_result"
    }
   ],
   "source": [
    "players"
   ]
  },
  {
   "cell_type": "code",
   "execution_count": 50,
   "id": "0e88ed94-035a-4fef-ae59-13c43c7c7ac6",
   "metadata": {
    "tags": []
   },
   "outputs": [],
   "source": [
    "players.to_csv(\"players.csv\")"
   ]
  },
  {
   "cell_type": "code",
   "execution_count": 51,
   "id": "b2af23cf-82b6-4def-b0c5-322f0f3f22cd",
   "metadata": {
    "tags": []
   },
   "outputs": [],
   "source": [
    "team_stats_url = \"https://www.basketball-reference.com/leagues/NBA_{}_standings.html\""
   ]
  },
  {
   "cell_type": "code",
   "execution_count": 53,
   "id": "26b9d52c-7223-4141-934a-10b75b8071be",
   "metadata": {
    "tags": []
   },
   "outputs": [],
   "source": [
    "for year in years:\n",
    "    url = team_stats_url.format(year)\n",
    "\n",
    "    data = requests.get(url)\n",
    "\n",
    "    with open(\"team/{}.html\".format(year), \"w+\") as f:\n",
    "        f.write(data.text)"
   ]
  },
  {
   "cell_type": "code",
   "execution_count": 57,
   "id": "62bc3b2e-69f9-4558-9a9d-a87e594cb037",
   "metadata": {
    "tags": []
   },
   "outputs": [],
   "source": [
    "dfs = []\n",
    "for year in years:\n",
    "    with open(\"team/{}.html\".format(year)) as f:\n",
    "        page = f.read()\n",
    "\n",
    "    soup = BeautifulSoup(page, \"html.parser\")\n",
    "    soup.find('tr', class_=\"thead\").decompose()\n",
    "    team_table = soup.find(id=\"divs_standings_E\")\n",
    "    team_table_String = str(team_table)\n",
    "    teamIO = StringIO(team_table_String)\n",
    "    team = pd.read_html(teamIO)[0]\n",
    "    team[\"Year\"] = year\n",
    "    team[\"Team\"] = team[\"Eastern Conference\"]\n",
    "    del team[\"Eastern Conference\"]\n",
    "    dfs.append(team)\n",
    "\n",
    "    soup = BeautifulSoup(page, \"html.parser\")\n",
    "    soup.find('tr', class_=\"thead\").decompose()\n",
    "    team_table = soup.find(id=\"divs_standings_W\")\n",
    "    team_table_String = str(team_table)\n",
    "    teamIO = StringIO(team_table_String)\n",
    "    team = pd.read_html(teamIO)[0]\n",
    "    team[\"Year\"] = year\n",
    "    team[\"Team\"] = team[\"Western Conference\"]\n",
    "    del team[\"Western Conference\"]\n",
    "    dfs.append(team)"
   ]
  },
  {
   "cell_type": "code",
   "execution_count": 58,
   "id": "23908571-5bbb-4e9a-8039-4d97846824e6",
   "metadata": {
    "tags": []
   },
   "outputs": [],
   "source": [
    "teams = pd.concat(dfs)"
   ]
  },
  {
   "cell_type": "code",
   "execution_count": 60,
   "id": "162ab11e-4410-46f9-b352-17a93ed62be3",
   "metadata": {
    "tags": []
   },
   "outputs": [
    {
     "data": {
      "text/html": [
       "<div>\n",
       "<style scoped>\n",
       "    .dataframe tbody tr th:only-of-type {\n",
       "        vertical-align: middle;\n",
       "    }\n",
       "\n",
       "    .dataframe tbody tr th {\n",
       "        vertical-align: top;\n",
       "    }\n",
       "\n",
       "    .dataframe thead th {\n",
       "        text-align: right;\n",
       "    }\n",
       "</style>\n",
       "<table border=\"1\" class=\"dataframe\">\n",
       "  <thead>\n",
       "    <tr style=\"text-align: right;\">\n",
       "      <th></th>\n",
       "      <th>W</th>\n",
       "      <th>L</th>\n",
       "      <th>W/L%</th>\n",
       "      <th>GB</th>\n",
       "      <th>PS/G</th>\n",
       "      <th>PA/G</th>\n",
       "      <th>SRS</th>\n",
       "      <th>Year</th>\n",
       "      <th>Team</th>\n",
       "    </tr>\n",
       "  </thead>\n",
       "  <tbody>\n",
       "    <tr>\n",
       "      <th>0</th>\n",
       "      <td>57</td>\n",
       "      <td>25</td>\n",
       "      <td>.695</td>\n",
       "      <td>—</td>\n",
       "      <td>110.9</td>\n",
       "      <td>103.8</td>\n",
       "      <td>6.44</td>\n",
       "      <td>1995</td>\n",
       "      <td>Orlando Magic*</td>\n",
       "    </tr>\n",
       "    <tr>\n",
       "      <th>1</th>\n",
       "      <td>55</td>\n",
       "      <td>27</td>\n",
       "      <td>.671</td>\n",
       "      <td>2.0</td>\n",
       "      <td>98.2</td>\n",
       "      <td>95.1</td>\n",
       "      <td>2.78</td>\n",
       "      <td>1995</td>\n",
       "      <td>New York Knicks*</td>\n",
       "    </tr>\n",
       "    <tr>\n",
       "      <th>2</th>\n",
       "      <td>35</td>\n",
       "      <td>47</td>\n",
       "      <td>.427</td>\n",
       "      <td>22.0</td>\n",
       "      <td>102.8</td>\n",
       "      <td>104.7</td>\n",
       "      <td>-1.92</td>\n",
       "      <td>1995</td>\n",
       "      <td>Boston Celtics*</td>\n",
       "    </tr>\n",
       "    <tr>\n",
       "      <th>3</th>\n",
       "      <td>32</td>\n",
       "      <td>50</td>\n",
       "      <td>.390</td>\n",
       "      <td>25.0</td>\n",
       "      <td>101.1</td>\n",
       "      <td>102.8</td>\n",
       "      <td>-1.85</td>\n",
       "      <td>1995</td>\n",
       "      <td>Miami Heat</td>\n",
       "    </tr>\n",
       "    <tr>\n",
       "      <th>4</th>\n",
       "      <td>30</td>\n",
       "      <td>52</td>\n",
       "      <td>.366</td>\n",
       "      <td>27.0</td>\n",
       "      <td>98.1</td>\n",
       "      <td>101.2</td>\n",
       "      <td>-3.28</td>\n",
       "      <td>1995</td>\n",
       "      <td>New Jersey Nets</td>\n",
       "    </tr>\n",
       "    <tr>\n",
       "      <th>...</th>\n",
       "      <td>...</td>\n",
       "      <td>...</td>\n",
       "      <td>...</td>\n",
       "      <td>...</td>\n",
       "      <td>...</td>\n",
       "      <td>...</td>\n",
       "      <td>...</td>\n",
       "      <td>...</td>\n",
       "      <td>...</td>\n",
       "    </tr>\n",
       "    <tr>\n",
       "      <th>13</th>\n",
       "      <td>51</td>\n",
       "      <td>31</td>\n",
       "      <td>.622</td>\n",
       "      <td>—</td>\n",
       "      <td>116.9</td>\n",
       "      <td>113.0</td>\n",
       "      <td>3.60</td>\n",
       "      <td>2023</td>\n",
       "      <td>Memphis Grizzlies*</td>\n",
       "    </tr>\n",
       "    <tr>\n",
       "      <th>14</th>\n",
       "      <td>42</td>\n",
       "      <td>40</td>\n",
       "      <td>.512</td>\n",
       "      <td>9.0</td>\n",
       "      <td>114.4</td>\n",
       "      <td>112.5</td>\n",
       "      <td>1.63</td>\n",
       "      <td>2023</td>\n",
       "      <td>New Orleans Pelicans</td>\n",
       "    </tr>\n",
       "    <tr>\n",
       "      <th>15</th>\n",
       "      <td>38</td>\n",
       "      <td>44</td>\n",
       "      <td>.463</td>\n",
       "      <td>13.0</td>\n",
       "      <td>114.2</td>\n",
       "      <td>114.1</td>\n",
       "      <td>-0.14</td>\n",
       "      <td>2023</td>\n",
       "      <td>Dallas Mavericks</td>\n",
       "    </tr>\n",
       "    <tr>\n",
       "      <th>16</th>\n",
       "      <td>22</td>\n",
       "      <td>60</td>\n",
       "      <td>.268</td>\n",
       "      <td>29.0</td>\n",
       "      <td>110.7</td>\n",
       "      <td>118.6</td>\n",
       "      <td>-7.62</td>\n",
       "      <td>2023</td>\n",
       "      <td>Houston Rockets</td>\n",
       "    </tr>\n",
       "    <tr>\n",
       "      <th>17</th>\n",
       "      <td>22</td>\n",
       "      <td>60</td>\n",
       "      <td>.268</td>\n",
       "      <td>29.0</td>\n",
       "      <td>113.0</td>\n",
       "      <td>123.1</td>\n",
       "      <td>-9.82</td>\n",
       "      <td>2023</td>\n",
       "      <td>San Antonio Spurs</td>\n",
       "    </tr>\n",
       "  </tbody>\n",
       "</table>\n",
       "<p>983 rows × 9 columns</p>\n",
       "</div>"
      ],
      "text/plain": [
       "     W   L  W/L%    GB   PS/G   PA/G    SRS  Year                  Team\n",
       "0   57  25  .695     —  110.9  103.8   6.44  1995        Orlando Magic*\n",
       "1   55  27  .671   2.0   98.2   95.1   2.78  1995      New York Knicks*\n",
       "2   35  47  .427  22.0  102.8  104.7  -1.92  1995       Boston Celtics*\n",
       "3   32  50  .390  25.0  101.1  102.8  -1.85  1995            Miami Heat\n",
       "4   30  52  .366  27.0   98.1  101.2  -3.28  1995       New Jersey Nets\n",
       "..  ..  ..   ...   ...    ...    ...    ...   ...                   ...\n",
       "13  51  31  .622     —  116.9  113.0   3.60  2023    Memphis Grizzlies*\n",
       "14  42  40  .512   9.0  114.4  112.5   1.63  2023  New Orleans Pelicans\n",
       "15  38  44  .463  13.0  114.2  114.1  -0.14  2023      Dallas Mavericks\n",
       "16  22  60  .268  29.0  110.7  118.6  -7.62  2023       Houston Rockets\n",
       "17  22  60  .268  29.0  113.0  123.1  -9.82  2023     San Antonio Spurs\n",
       "\n",
       "[983 rows x 9 columns]"
      ]
     },
     "execution_count": 60,
     "metadata": {},
     "output_type": "execute_result"
    }
   ],
   "source": [
    "teams"
   ]
  },
  {
   "cell_type": "code",
   "execution_count": 61,
   "id": "e9d4847e-28e3-4860-90ba-a96a9c7fefdf",
   "metadata": {
    "tags": []
   },
   "outputs": [],
   "source": [
    "teams.to_csv(\"teams.csv\")"
   ]
  },
  {
   "cell_type": "code",
   "execution_count": null,
   "id": "e695fefc-2cfd-4748-aa63-a2efbfe788c4",
   "metadata": {},
   "outputs": [],
   "source": []
  }
 ],
 "metadata": {
  "kernelspec": {
   "display_name": "Python 3 (ipykernel)",
   "language": "python",
   "name": "python3"
  },
  "language_info": {
   "codemirror_mode": {
    "name": "ipython",
    "version": 3
   },
   "file_extension": ".py",
   "mimetype": "text/x-python",
   "name": "python",
   "nbconvert_exporter": "python",
   "pygments_lexer": "ipython3",
   "version": "3.11.7"
  }
 },
 "nbformat": 4,
 "nbformat_minor": 5
}
